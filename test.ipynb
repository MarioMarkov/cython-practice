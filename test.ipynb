{
 "cells": [
  {
   "cell_type": "code",
   "execution_count": 3,
   "metadata": {},
   "outputs": [],
   "source": [
    "%load_ext Cython\n",
    "import cython\n"
   ]
  },
  {
   "cell_type": "code",
   "execution_count": 121,
   "metadata": {},
   "outputs": [
    {
     "name": "stdout",
     "output_type": "stream",
     "text": [
      "Content of stdout:\n",
      "_cython_magic_a5b8fcfd180abda74368393abbd22f88b9c93a10.c\n",
      "C:\\Users\\Mario\\AppData\\Roaming\\Python\\Python312\\site-packages\\numpy\\core\\include\\numpy\\npy_1_7_deprecated_api.h(14) : Warning Msg: Using deprecated NumPy API, disable it with #define NPY_NO_DEPRECATED_API NPY_1_7_API_VERSION\n",
      "   Creating library C:\\Users\\Mario\\.ipython\\cython\\Users\\Mario\\.ipython\\cython\\_cython_magic_a5b8fcfd180abda74368393abbd22f88b9c93a10.cp312-win_amd64.lib and object C:\\Users\\Mario\\.ipython\\cython\\Users\\Mario\\.ipython\\cython\\_cython_magic_a5b8fcfd180abda74368393abbd22f88b9c93a10.cp312-win_amd64.exp\n",
      "Generating code\n",
      "Finished generating code"
     ]
    }
   ],
   "source": [
    "%%cython \n",
    "import cython\n",
    "import numpy as np\n",
    "\n",
    "cimport numpy as cnp\n",
    "cnp.import_array()\n",
    "from libc.stdio cimport printf\n",
    "\n",
    "\n",
    "@cython.cclass\n",
    "class Tensor:\n",
    "    \n",
    "    data: cnp.ndarray[cnp.float64_t]\n",
    "    shape: cnp.ndarray[cnp.int32_t]\n",
    "    strides: cnp.ndarray[cnp.int32_t] \n",
    "    ndim: cython.int \n",
    "    \n",
    "    @property\n",
    "    def data(self):\n",
    "        return self.data\n",
    "\n",
    "    @property\n",
    "    def shape(self):\n",
    "        return self.shape\n",
    "    \n",
    "    @property\n",
    "    def strides(self):\n",
    "        return self.strides\n",
    "\n",
    "    def __cinit__(self, cnp.ndarray[cnp.float64_t] data, cnp.ndarray[cnp.int32_t] shape , ndim: cython.int ):\n",
    "        self.data = data\n",
    "        self.shape = shape\n",
    "        self.ndim = ndim\n",
    "\n",
    "        self.strides: cnp.ndarray[np.int32_t] = np.empty(ndim, dtype=np.int32)\n",
    "        stride = 1 \n",
    "        for i in range(ndim - 1, -1,-1 ):\n",
    "            self.strides[i] = stride\n",
    "            stride *= shape[i]\n",
    "\n",
    "        \n",
    "    \n",
    "    def __getitem__(self, indices:tuple):\n",
    "        idx: cython.int\n",
    "        i: cython.int\n",
    "        idx: cnp.ndarray[cnp.int32_t] = np.array(indices, dtype=np.int32)\n",
    "\n",
    "\n",
    "        for i in range(self.ndim):\n",
    "            idx += indices[i] * self.strides[i]\n",
    "        return self.data[idx]\n",
    "        "
   ]
  },
  {
   "cell_type": "code",
   "execution_count": 115,
   "metadata": {},
   "outputs": [],
   "source": [
    "import numpy as np\n",
    "\n",
    "data = np.array([1.0, 2.0, 3.0, 4.0,5.0,6.0], dtype=np.float64)\n",
    "shape = np.array([5,4,8], dtype=np.int32)\n",
    "ndim = len(shape)\n",
    "\n",
    "t = Tensor(data,shape,ndim)\n"
   ]
  },
  {
   "cell_type": "code",
   "execution_count": 1,
   "metadata": {},
   "outputs": [],
   "source": [
    "from tensor import Tensor\n",
    "import numpy as np\n",
    "\n",
    "data = np.array([1.0, 2.0, 3.0, 4.0,5.0,6.0], dtype=np.float64)\n",
    "shape = np.array([5,4,8], dtype=np.int32)\n",
    "ndim = len(shape)\n",
    "\n",
    "t = Tensor(data,shape,ndim)"
   ]
  },
  {
   "cell_type": "code",
   "execution_count": 4,
   "metadata": {},
   "outputs": [
    {
     "data": {
      "text/plain": [
       "array([1., 2., 3., 4., 5., 6.])"
      ]
     },
     "execution_count": 4,
     "metadata": {},
     "output_type": "execute_result"
    }
   ],
   "source": [
    "t.data"
   ]
  },
  {
   "cell_type": "code",
   "execution_count": 116,
   "metadata": {},
   "outputs": [
    {
     "name": "stdout",
     "output_type": "stream",
     "text": [
      "[32  8  1]\n"
     ]
    }
   ],
   "source": [
    "print(t.strides)  # Output: 1.0"
   ]
  }
 ],
 "metadata": {
  "kernelspec": {
   "display_name": "autograd",
   "language": "python",
   "name": "python3"
  },
  "language_info": {
   "codemirror_mode": {
    "name": "ipython",
    "version": 3
   },
   "file_extension": ".py",
   "mimetype": "text/x-python",
   "name": "python",
   "nbconvert_exporter": "python",
   "pygments_lexer": "ipython3",
   "version": "3.12.5"
  }
 },
 "nbformat": 4,
 "nbformat_minor": 2
}
